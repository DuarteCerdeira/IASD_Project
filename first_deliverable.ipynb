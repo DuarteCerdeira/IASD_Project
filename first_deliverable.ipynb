{
 "cells": [
  {
   "cell_type": "markdown",
   "metadata": {},
   "source": [
    "### Imports"
   ]
  },
  {
   "cell_type": "code",
   "execution_count": 11,
   "metadata": {},
   "outputs": [],
   "source": [
    "import numpy as np\n",
    "import io"
   ]
  },
  {
   "cell_type": "markdown",
   "metadata": {},
   "source": [
    "Test input file"
   ]
  },
  {
   "cell_type": "code",
   "execution_count": 12,
   "metadata": {},
   "outputs": [],
   "source": [
    "P = \"\"\"# This is a comment\n",
    "P 4\n",
    "20 30 40\n",
    "   50 60\n",
    "      70\n",
    "R 5\n",
    "10 1 2 1\n",
    "15 1 3 1\n",
    "16 2 3 1\n",
    "20 2 1 1\n",
    "25 1 2 2\n",
    "V 2\n",
    "4\n",
    "5\"\"\""
   ]
  },
  {
   "cell_type": "markdown",
   "metadata": {},
   "source": [
    "Load function"
   ]
  },
  {
   "cell_type": "code",
   "execution_count": 13,
   "metadata": {},
   "outputs": [],
   "source": [
    "requests = []\n",
    "vehicles = []\n",
    "\n",
    "with io.StringIO(P) as fh:\n",
    "    lines = fh.readlines()\n",
    "\n",
    "    while lines != []:\n",
    "        line = lines.pop(0)\n",
    "\n",
    "        if line.startswith('#'):\n",
    "            continue\n",
    "\n",
    "        elif line.startswith('P'):\n",
    "            n_points = int(line.split()[1])\n",
    "            costs = np.zeros((n_points, n_points))\n",
    "            for i in range(n_points - 1):\n",
    "                cost_line = lines.pop(0)\n",
    "                costs[i, i + 1:] = np.array(cost_line.split(), float)\n",
    "                costs[i + 1:, i] = costs[i, i + 1:]\n",
    "\n",
    "        elif line.startswith('R'):\n",
    "            n_requests = int(line.split()[1])\n",
    "            for _ in range(n_requests):\n",
    "                request_line = lines.pop(0)\n",
    "                t = float(request_line.split()[0])\n",
    "                o, d, n = map(int, request_line.split()[1:])\n",
    "                requests.append({\n",
    "                    'Time': t, \n",
    "                    'Origin': o, \n",
    "                    'Destination': d, \n",
    "                    'Number of Passangers': n\n",
    "                    })\n",
    "\n",
    "        elif line.startswith('V'):\n",
    "            n_vehicles = int(line.split()[1])\n",
    "            for _ in range(n_vehicles):\n",
    "                vehicles.append(int(lines.pop(0)))"
   ]
  },
  {
   "cell_type": "markdown",
   "metadata": {},
   "source": [
    "Test Solution"
   ]
  },
  {
   "cell_type": "code",
   "execution_count": 14,
   "metadata": {},
   "outputs": [],
   "source": [
    "S = [('Pickup', 0, 3, 30.0), ('Pickup', 1, 4, 25.0), ('Pickup', 1, 0, 25.0),\n",
    "     ('Dropoff', 1, 4, 75.0), ('Dropoff', 1, 0, 75.0), ('Pickup', 0, 2, 30.0),\n",
    "     ('Dropoff', 0, 3, 80.0), ('Pickup', 0, 1, 80.0), ('Dropoff', 0, 1, 140.0),\n",
    "     ('Dropoff', 0, 2, 140.0)]"
   ]
  },
  {
   "cell_type": "markdown",
   "metadata": {},
   "source": [
    "Cost function"
   ]
  },
  {
   "cell_type": "code",
   "execution_count": 15,
   "metadata": {},
   "outputs": [
    {
     "data": {
      "text/plain": [
       "144.0"
      ]
     },
     "execution_count": 15,
     "metadata": {},
     "output_type": "execute_result"
    }
   ],
   "source": [
    "total_cost = 0\n",
    "for s in S:\n",
    "    a, _, r, t = s  # action, vehicle, request, time\n",
    "    if a == 'Dropoff':\n",
    "        T_od = costs[requests[r]['Origin']][requests[r]['Destination']]\n",
    "        total_cost += t - requests[r]['Time'] - T_od\n",
    "\n",
    "total_cost"
   ]
  }
 ],
 "metadata": {
  "kernelspec": {
   "display_name": "Python 3",
   "language": "python",
   "name": "python3"
  },
  "language_info": {
   "codemirror_mode": {
    "name": "ipython",
    "version": 3
   },
   "file_extension": ".py",
   "mimetype": "text/x-python",
   "name": "python",
   "nbconvert_exporter": "python",
   "pygments_lexer": "ipython3",
   "version": "3.10.12"
  },
  "orig_nbformat": 4
 },
 "nbformat": 4,
 "nbformat_minor": 2
}
