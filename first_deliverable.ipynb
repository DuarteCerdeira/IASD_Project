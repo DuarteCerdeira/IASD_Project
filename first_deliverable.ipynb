{
 "cells": [
  {
   "cell_type": "markdown",
   "metadata": {},
   "source": [
    "### Imports"
   ]
  },
  {
   "cell_type": "code",
   "execution_count": 1,
   "metadata": {},
   "outputs": [],
   "source": [
    "import numpy as np\n",
    "import io"
   ]
  },
  {
   "cell_type": "markdown",
   "metadata": {},
   "source": [
    "Test input file"
   ]
  },
  {
   "cell_type": "code",
   "execution_count": 2,
   "metadata": {},
   "outputs": [],
   "source": [
    "P = \"\"\"# This is a comment\n",
    "P 4\n",
    "20 30 40\n",
    "   50 60\n",
    "      70\n",
    "R 5\n",
    "10 1 2 1\n",
    "15 1 3 1\n",
    "16 2 3 1\n",
    "20 2 1 1\n",
    "25 1 2 2\n",
    "V 2\n",
    "4\n",
    "5\"\"\""
   ]
  },
  {
   "cell_type": "markdown",
   "metadata": {},
   "source": [
    "Load function"
   ]
  },
  {
   "cell_type": "code",
   "execution_count": 7,
   "metadata": {},
   "outputs": [],
   "source": [
    "with io.StringIO(P) as fh:\n",
    "    lines = fh.readlines()\n",
    "\n",
    "    for line in lines:\n",
    "        if line.startswith('#'):\n",
    "            continue\n",
    "        # Line that starts with 'P' contains the number of points\n",
    "        if line.startswith('P'):\n",
    "            n_points = int(line.split()[1])\n",
    "\n",
    "            # The following n_points - 1 lines contain the costs between each pair of points\n",
    "            costs = np.zeros((n_points, n_points))\n",
    "            for i in range(n_points - 1):\n",
    "                cost_line = lines[lines.index(line) + i + 1]\n",
    "                cost_values = [int(x) for x in cost_line.split()]\n",
    "    \n",
    "                for j in range(i + 1, n_points):\n",
    "                    costs[i, j] = costs[j, i] = cost_values[j - i - 1]\n",
    "            \n",
    "        # Line that starts with 'R' contains the number of requests\n",
    "        elif line.startswith('R'):\n",
    "            n_requests = int(line.split()[1])\n",
    "\n",
    "            # The following n_requests lines contain the requests\n",
    "            requests = []\n",
    "            for i in range(n_requests):\n",
    "                t, o, d, n = [int(x) for x in lines[lines.index(line) + i + 1].split()]\n",
    "                requests.append({'Time': t, 'Origin': o, 'Destination': d, 'Number of Passangers': n})\n",
    "\n",
    "        # Line that starts with 'V' contains the number of vehicles\n",
    "        elif line.startswith('V'):\n",
    "            n_vehicles = int(line.split()[1])\n",
    "\n",
    "            # The following n_vehicles lines contain the vehicles capacity\n",
    "            vehicles = []\n",
    "            for i in range(n_vehicles):\n",
    "                vehicles.append(int(lines[lines.index(line) + i + 1]))"
   ]
  },
  {
   "cell_type": "markdown",
   "metadata": {},
   "source": [
    "Test Solution"
   ]
  },
  {
   "cell_type": "code",
   "execution_count": 4,
   "metadata": {},
   "outputs": [],
   "source": [
    "S = [('Pickup', 0, 3, 30.0), ('Pickup', 1, 4, 25.0), ('Pickup', 1, 0, 25.0),\n",
    "     ('Dropoff', 1, 4, 75.0), ('Dropoff', 1, 0, 75.0), ('Pickup', 0, 2, 30.0),\n",
    "     ('Dropoff', 0, 3, 80.0), ('Pickup', 0, 1, 80.0), ('Dropoff', 0, 1, 140.0),\n",
    "     ('Dropoff', 0, 2, 140.0)]"
   ]
  },
  {
   "cell_type": "markdown",
   "metadata": {},
   "source": [
    "Cost function"
   ]
  },
  {
   "cell_type": "code",
   "execution_count": 5,
   "metadata": {},
   "outputs": [
    {
     "data": {
      "text/plain": [
       "144.0"
      ]
     },
     "execution_count": 5,
     "metadata": {},
     "output_type": "execute_result"
    }
   ],
   "source": [
    "for s in S:\n",
    "    a, v, r, t = s  # action, vehicle, request, time\n",
    "\n",
    "    if a == 'Dropoff':\n",
    "        requests[r]['Delay'] = t - requests[r]['Time'] - costs[requests[r]['Origin']][requests[r]['Destination']]\n",
    "\n",
    "total_cost = sum([r['Delay'] for r in requests if 'Delay' in r])\n",
    "total_cost"
   ]
  }
 ],
 "metadata": {
  "kernelspec": {
   "display_name": "Python 3",
   "language": "python",
   "name": "python3"
  },
  "language_info": {
   "codemirror_mode": {
    "name": "ipython",
    "version": 3
   },
   "file_extension": ".py",
   "mimetype": "text/x-python",
   "name": "python",
   "nbconvert_exporter": "python",
   "pygments_lexer": "ipython3",
   "version": "3.9.12"
  },
  "orig_nbformat": 4
 },
 "nbformat": 4,
 "nbformat_minor": 2
}
