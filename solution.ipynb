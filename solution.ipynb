{
 "cells": [
  {
   "cell_type": "markdown",
   "metadata": {},
   "source": [
    "### Imports"
   ]
  },
  {
   "cell_type": "code",
   "execution_count": 37,
   "metadata": {},
   "outputs": [],
   "source": [
    "import numpy as np"
   ]
  },
  {
   "cell_type": "markdown",
   "metadata": {},
   "source": [
    "Test input file"
   ]
  },
  {
   "cell_type": "code",
   "execution_count": 38,
   "metadata": {},
   "outputs": [],
   "source": [
    "s = \"\"\"# This is a comment\n",
    "P 4\n",
    "20 30 40\n",
    "   50 60\n",
    "      70\n",
    "R 5\n",
    "10 1 2 1\n",
    "15 1 3 1\n",
    "16 2 3 1\n",
    "20 2 1 1\n",
    "25 1 2 2\n",
    "V 2\n",
    "4\n",
    "5\"\"\""
   ]
  },
  {
   "cell_type": "code",
   "execution_count": 39,
   "metadata": {},
   "outputs": [],
   "source": [
    "lines = s.splitlines()\n",
    "\n",
    "for i in range(len(lines)):\n",
    "    line = lines[i]\n",
    "    if line.startswith('#'):\n",
    "        continue\n",
    "    if line.startswith('P'):\n",
    "        P_index = i\n",
    "        n_points = int(line.split()[1])\n",
    "    elif line.startswith('R'):\n",
    "        R_index = i\n",
    "        n_requests = int(line.split()[1])\n",
    "    elif line.startswith('V'):\n",
    "        V_index = i\n",
    "        n_vehicles = int(line.split()[1])"
   ]
  },
  {
   "cell_type": "code",
   "execution_count": null,
   "metadata": {},
   "outputs": [],
   "source": [
    "# The lines following P are the cost between points\n",
    "cost_lines = lines[P_index+1:P_index+1+n_points-1]\n",
    "costs = np.zeros((n_points, n_points))\n",
    "for i in range(n_points):\n",
    "    costs[i, i] = 0\n",
    "\n",
    "for i in range(len(cost_lines)):\n",
    "    costs[i, i+1:] = [int(x) for x in cost_lines[i].split()]\n",
    "    costs[i+1:, i] = costs[i, i+1:]\n",
    "\n",
    "# The lines following R are the requests\n",
    "request_lines = lines[R_index+1:R_index+1+n_requests]\n",
    "requests = []\n",
    "for line in request_lines:\n",
    "    t, o, d, n = [int(x) for x in line.split()]\n",
    "    requests.append({'Time': t, 'Origin': o, 'Destination': d, 'N_Passengers': n})\n",
    "\n",
    "# The lines following V are the vehicles\n",
    "vehicle_lines = lines[V_index+1:V_index+1+n_vehicles]\n",
    "vehicles = []\n",
    "for line in vehicle_lines:\n",
    "    vehicles.append(int(line))"
   ]
  }
 ],
 "metadata": {
  "kernelspec": {
   "display_name": "Python 3",
   "language": "python",
   "name": "python3"
  },
  "language_info": {
   "codemirror_mode": {
    "name": "ipython",
    "version": 3
   },
   "file_extension": ".py",
   "mimetype": "text/x-python",
   "name": "python",
   "nbconvert_exporter": "python",
   "pygments_lexer": "ipython3",
   "version": "3.10.12"
  },
  "orig_nbformat": 4
 },
 "nbformat": 4,
 "nbformat_minor": 2
}
